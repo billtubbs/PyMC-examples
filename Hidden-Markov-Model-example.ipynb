{
 "cells": [
  {
   "cell_type": "markdown",
   "id": "03aa9d5b",
   "metadata": {},
   "source": [
    "# Example of Hidden Markov Model"
   ]
  },
  {
   "cell_type": "code",
   "execution_count": 7,
   "id": "553647b0",
   "metadata": {},
   "outputs": [
    {
     "data": {
      "text/plain": [
       "'5.0.2'"
      ]
     },
     "execution_count": 7,
     "metadata": {},
     "output_type": "execute_result"
    }
   ],
   "source": [
    "import numpy as np\n",
    "import aesara\n",
    "import pymc as pm\n",
    "\n",
    "pm.__version__"
   ]
  },
  {
   "cell_type": "markdown",
   "id": "16025779",
   "metadata": {},
   "source": [
    "Example from stackoverflow answer:\n",
    "\n",
    " - https://stackoverflow.com/a/29256808/1609514"
   ]
  },
  {
   "cell_type": "code",
   "execution_count": 33,
   "id": "cb9614ec",
   "metadata": {},
   "outputs": [],
   "source": [
    "from IPython.core.debugger import set_trace\n",
    "\n",
    "def generate_timesteps(N, p_init, p_trans):\n",
    "\n",
    "    set_trace()\n",
    "    timesteps = np.empty(N+1, dtype=object)\n",
    "\n",
    "    # A success denotes being in state 2, a failure being in state 1\n",
    "    timesteps[0] = pm.Bernoulli('T0', p_init)\n",
    "\n",
    "    for i in range(1, N):\n",
    "        # probability of being in state 1 at time step `i` given time step `i-1`\n",
    "        p_i = p_trans[1] * timesteps[i-1] + p_trans[0] * (1-timesteps[i-1])\n",
    "        timesteps[i] = pm.Bernoulli('T%d' % i, p_i)\n",
    "\n",
    "    return timesteps\n"
   ]
  },
  {
   "cell_type": "code",
   "execution_count": 35,
   "id": "1dc74e6b",
   "metadata": {},
   "outputs": [
    {
     "name": "stdout",
     "output_type": "stream",
     "text": [
      "> \u001b[0;32m/var/folders/y3/28pc8qrx3dd36zwcys8z1rzc0000gn/T/ipykernel_85892/1522797367.py\u001b[0m(6)\u001b[0;36mgenerate_timesteps\u001b[0;34m()\u001b[0m\n",
      "\u001b[0;32m      4 \u001b[0;31m\u001b[0;34m\u001b[0m\u001b[0m\n",
      "\u001b[0m\u001b[0;32m      5 \u001b[0;31m    \u001b[0mset_trace\u001b[0m\u001b[0;34m(\u001b[0m\u001b[0;34m)\u001b[0m\u001b[0;34m\u001b[0m\u001b[0;34m\u001b[0m\u001b[0m\n",
      "\u001b[0m\u001b[0;32m----> 6 \u001b[0;31m    \u001b[0mtimesteps\u001b[0m \u001b[0;34m=\u001b[0m \u001b[0mnp\u001b[0m\u001b[0;34m.\u001b[0m\u001b[0mempty\u001b[0m\u001b[0;34m(\u001b[0m\u001b[0mN\u001b[0m\u001b[0;34m+\u001b[0m\u001b[0;36m1\u001b[0m\u001b[0;34m,\u001b[0m \u001b[0mdtype\u001b[0m\u001b[0;34m=\u001b[0m\u001b[0mobject\u001b[0m\u001b[0;34m)\u001b[0m\u001b[0;34m\u001b[0m\u001b[0;34m\u001b[0m\u001b[0m\n",
      "\u001b[0m\u001b[0;32m      7 \u001b[0;31m\u001b[0;34m\u001b[0m\u001b[0m\n",
      "\u001b[0m\u001b[0;32m      8 \u001b[0;31m    \u001b[0;31m# A success denotes being in state 2, a failure being in state 1\u001b[0m\u001b[0;34m\u001b[0m\u001b[0;34m\u001b[0m\u001b[0m\n",
      "\u001b[0m\n",
      "ipdb> q\n"
     ]
    }
   ],
   "source": [
    "with pm.Model() as markov_chain:\n",
    "    timesteps = generate_timesteps(10, 0.8, [0.001, 0.5])\n",
    "    model = pm.MCMC(timesteps)\n",
    "    model.sample(10000) # no burn in necessary since we're sampling directly from the distribution\n",
    "    [np.mean(model.trace(t).gettrace()) for t in timesteps]"
   ]
  },
  {
   "cell_type": "code",
   "execution_count": null,
   "id": "379f10e1",
   "metadata": {},
   "outputs": [],
   "source": []
  },
  {
   "cell_type": "code",
   "execution_count": 10,
   "id": "8fd9aa58",
   "metadata": {},
   "outputs": [
    {
     "ename": "NotImplementedError",
     "evalue": "Cannot convert transition_probs to a tensor variable.",
     "output_type": "error",
     "traceback": [
      "\u001b[0;31m---------------------------------------------------------------------------\u001b[0m",
      "\u001b[0;31mNotImplementedError\u001b[0m                       Traceback (most recent call last)",
      "Cell \u001b[0;32mIn[10], line 14\u001b[0m\n\u001b[1;32m     11\u001b[0m     \u001b[38;5;28;01mreturn\u001b[39;00m next_state, {old_rng: next_rng}\n\u001b[1;32m     13\u001b[0m rng \u001b[38;5;241m=\u001b[39m aesara\u001b[38;5;241m.\u001b[39mshared(np\u001b[38;5;241m.\u001b[39mrandom\u001b[38;5;241m.\u001b[39mdefault_rng())\n\u001b[0;32m---> 14\u001b[0m mc_chain, updates \u001b[38;5;241m=\u001b[39m \u001b[43maesara\u001b[49m\u001b[38;5;241;43m.\u001b[39;49m\u001b[43mscan\u001b[49m\u001b[43m(\u001b[49m\u001b[43mfn\u001b[49m\u001b[38;5;241;43m=\u001b[39;49m\u001b[43mtransition\u001b[49m\u001b[43m,\u001b[49m\n\u001b[1;32m     15\u001b[0m \u001b[43m                              \u001b[49m\u001b[43moutputs_info\u001b[49m\u001b[38;5;241;43m=\u001b[39;49m\u001b[38;5;28;43mdict\u001b[39;49m\u001b[43m(\u001b[49m\u001b[43minitial\u001b[49m\u001b[43m \u001b[49m\u001b[38;5;241;43m=\u001b[39;49m\u001b[43m \u001b[49m\u001b[43minitial_state\u001b[49m\u001b[43m)\u001b[49m\u001b[43m,\u001b[49m\n\u001b[1;32m     16\u001b[0m \u001b[43m                              \u001b[49m\u001b[43mnon_sequences\u001b[49m\u001b[38;5;241;43m=\u001b[39;49m\u001b[43m[\u001b[49m\u001b[43mtransition_probs\u001b[49m\u001b[43m,\u001b[49m\u001b[43m \u001b[49m\u001b[43mrng\u001b[49m\u001b[43m]\u001b[49m\u001b[43m,\u001b[49m\n\u001b[1;32m     17\u001b[0m \u001b[43m                              \u001b[49m\u001b[43mn_steps\u001b[49m\u001b[38;5;241;43m=\u001b[39;49m\u001b[43mk\u001b[49m\u001b[43m)\u001b[49m\n\u001b[1;32m     18\u001b[0m \u001b[38;5;28;01massert\u001b[39;00m updates\n\u001b[1;32m     19\u001b[0m markov_chain\u001b[38;5;241m.\u001b[39mregister_rv(mc_chain, name\u001b[38;5;241m=\u001b[39m\u001b[38;5;124m\"\u001b[39m\u001b[38;5;124mmc_chain\u001b[39m\u001b[38;5;124m\"\u001b[39m, initval\u001b[38;5;241m=\u001b[39m\u001b[38;5;124m\"\u001b[39m\u001b[38;5;124mprior\u001b[39m\u001b[38;5;124m\"\u001b[39m)\n",
      "File \u001b[0;32m~/opt/anaconda3/envs/pymc/lib/python3.11/site-packages/aesara/scan/basic.py:464\u001b[0m, in \u001b[0;36mscan\u001b[0;34m(fn, sequences, outputs_info, non_sequences, n_steps, truncate_gradient, go_backwards, mode, name, profile, allow_gc, strict, return_list)\u001b[0m\n\u001b[1;32m    462\u001b[0m \u001b[38;5;28;01mfor\u001b[39;00m elem \u001b[38;5;129;01min\u001b[39;00m wrap_into_list(non_sequences):\n\u001b[1;32m    463\u001b[0m     \u001b[38;5;28;01mif\u001b[39;00m \u001b[38;5;129;01mnot\u001b[39;00m \u001b[38;5;28misinstance\u001b[39m(elem, Variable):\n\u001b[0;32m--> 464\u001b[0m         non_seqs\u001b[38;5;241m.\u001b[39mappend(\u001b[43mat\u001b[49m\u001b[38;5;241;43m.\u001b[39;49m\u001b[43mas_tensor_variable\u001b[49m\u001b[43m(\u001b[49m\u001b[43melem\u001b[49m\u001b[43m)\u001b[49m)\n\u001b[1;32m    465\u001b[0m     \u001b[38;5;28;01melse\u001b[39;00m:\n\u001b[1;32m    466\u001b[0m         non_seqs\u001b[38;5;241m.\u001b[39mappend(elem)\n",
      "File \u001b[0;32m~/opt/anaconda3/envs/pymc/lib/python3.11/site-packages/aesara/tensor/__init__.py:49\u001b[0m, in \u001b[0;36mas_tensor_variable\u001b[0;34m(x, name, ndim, **kwargs)\u001b[0m\n\u001b[1;32m     17\u001b[0m \u001b[38;5;28;01mdef\u001b[39;00m \u001b[38;5;21mas_tensor_variable\u001b[39m(\n\u001b[1;32m     18\u001b[0m     x: TensorLike, name: Optional[\u001b[38;5;28mstr\u001b[39m] \u001b[38;5;241m=\u001b[39m \u001b[38;5;28;01mNone\u001b[39;00m, ndim: Optional[\u001b[38;5;28mint\u001b[39m] \u001b[38;5;241m=\u001b[39m \u001b[38;5;28;01mNone\u001b[39;00m, \u001b[38;5;241m*\u001b[39m\u001b[38;5;241m*\u001b[39mkwargs\n\u001b[1;32m     19\u001b[0m ) \u001b[38;5;241m-\u001b[39m\u001b[38;5;241m>\u001b[39m \u001b[38;5;124m\"\u001b[39m\u001b[38;5;124mTensorVariable\u001b[39m\u001b[38;5;124m\"\u001b[39m:\n\u001b[1;32m     20\u001b[0m \u001b[38;5;250m    \u001b[39m\u001b[38;5;124;03m\"\"\"Convert `x` into an equivalent `TensorVariable`.\u001b[39;00m\n\u001b[1;32m     21\u001b[0m \n\u001b[1;32m     22\u001b[0m \u001b[38;5;124;03m    This function can be used to turn ndarrays, numbers, `ScalarType` instances,\u001b[39;00m\n\u001b[0;32m   (...)\u001b[0m\n\u001b[1;32m     47\u001b[0m \n\u001b[1;32m     48\u001b[0m \u001b[38;5;124;03m    \"\"\"\u001b[39;00m\n\u001b[0;32m---> 49\u001b[0m     \u001b[38;5;28;01mreturn\u001b[39;00m \u001b[43m_as_tensor_variable\u001b[49m\u001b[43m(\u001b[49m\u001b[43mx\u001b[49m\u001b[43m,\u001b[49m\u001b[43m \u001b[49m\u001b[43mname\u001b[49m\u001b[43m,\u001b[49m\u001b[43m \u001b[49m\u001b[43mndim\u001b[49m\u001b[43m,\u001b[49m\u001b[43m \u001b[49m\u001b[38;5;241;43m*\u001b[39;49m\u001b[38;5;241;43m*\u001b[39;49m\u001b[43mkwargs\u001b[49m\u001b[43m)\u001b[49m\n",
      "File \u001b[0;32m~/opt/anaconda3/envs/pymc/lib/python3.11/functools.py:909\u001b[0m, in \u001b[0;36msingledispatch.<locals>.wrapper\u001b[0;34m(*args, **kw)\u001b[0m\n\u001b[1;32m    905\u001b[0m \u001b[38;5;28;01mif\u001b[39;00m \u001b[38;5;129;01mnot\u001b[39;00m args:\n\u001b[1;32m    906\u001b[0m     \u001b[38;5;28;01mraise\u001b[39;00m \u001b[38;5;167;01mTypeError\u001b[39;00m(\u001b[38;5;124mf\u001b[39m\u001b[38;5;124m'\u001b[39m\u001b[38;5;132;01m{\u001b[39;00mfuncname\u001b[38;5;132;01m}\u001b[39;00m\u001b[38;5;124m requires at least \u001b[39m\u001b[38;5;124m'\u001b[39m\n\u001b[1;32m    907\u001b[0m                     \u001b[38;5;124m'\u001b[39m\u001b[38;5;124m1 positional argument\u001b[39m\u001b[38;5;124m'\u001b[39m)\n\u001b[0;32m--> 909\u001b[0m \u001b[38;5;28;01mreturn\u001b[39;00m \u001b[43mdispatch\u001b[49m\u001b[43m(\u001b[49m\u001b[43margs\u001b[49m\u001b[43m[\u001b[49m\u001b[38;5;241;43m0\u001b[39;49m\u001b[43m]\u001b[49m\u001b[38;5;241;43m.\u001b[39;49m\u001b[38;5;18;43m__class__\u001b[39;49m\u001b[43m)\u001b[49m\u001b[43m(\u001b[49m\u001b[38;5;241;43m*\u001b[39;49m\u001b[43margs\u001b[49m\u001b[43m,\u001b[49m\u001b[43m \u001b[49m\u001b[38;5;241;43m*\u001b[39;49m\u001b[38;5;241;43m*\u001b[39;49m\u001b[43mkw\u001b[49m\u001b[43m)\u001b[49m\n",
      "File \u001b[0;32m~/opt/anaconda3/envs/pymc/lib/python3.11/site-packages/aesara/tensor/__init__.py:56\u001b[0m, in \u001b[0;36m_as_tensor_variable\u001b[0;34m(x, name, ndim, **kwargs)\u001b[0m\n\u001b[1;32m     52\u001b[0m \u001b[38;5;129m@singledispatch\u001b[39m\n\u001b[1;32m     53\u001b[0m \u001b[38;5;28;01mdef\u001b[39;00m \u001b[38;5;21m_as_tensor_variable\u001b[39m(\n\u001b[1;32m     54\u001b[0m     x: TensorLike, name: Optional[\u001b[38;5;28mstr\u001b[39m], ndim: Optional[\u001b[38;5;28mint\u001b[39m], \u001b[38;5;241m*\u001b[39m\u001b[38;5;241m*\u001b[39mkwargs\n\u001b[1;32m     55\u001b[0m ) \u001b[38;5;241m-\u001b[39m\u001b[38;5;241m>\u001b[39m \u001b[38;5;124m\"\u001b[39m\u001b[38;5;124mTensorVariable\u001b[39m\u001b[38;5;124m\"\u001b[39m:\n\u001b[0;32m---> 56\u001b[0m     \u001b[38;5;28;01mraise\u001b[39;00m \u001b[38;5;167;01mNotImplementedError\u001b[39;00m(\u001b[38;5;124mf\u001b[39m\u001b[38;5;124m\"\u001b[39m\u001b[38;5;124mCannot convert \u001b[39m\u001b[38;5;132;01m{\u001b[39;00mx\u001b[38;5;132;01m!r}\u001b[39;00m\u001b[38;5;124m to a tensor variable.\u001b[39m\u001b[38;5;124m\"\u001b[39m)\n",
      "\u001b[0;31mNotImplementedError\u001b[0m: Cannot convert transition_probs to a tensor variable."
     ]
    }
   ],
   "source": [
    "k = 10\n",
    "\n",
    "with pm.Model() as markov_chain:\n",
    "    \n",
    "    transition_probs = pm.Uniform('transition_probs', lower=0, upper=1, shape = 2)\n",
    "    initial_state = pm.Bernoulli('initial_state', p = 0.5)\n",
    "    \n",
    "    def transition(previous_state, transition_probs, old_rng):\n",
    "        p = transition_probs[previous_state]\n",
    "        next_rng, next_state = pm.Bernoulli.dist(p = p, rng=old_rng).owner.outputs\n",
    "        return next_state, {old_rng: next_rng}\n",
    "\n",
    "    rng = aesara.shared(np.random.default_rng())\n",
    "    mc_chain, updates = aesara.scan(fn=transition,\n",
    "                                  outputs_info=dict(initial = initial_state),\n",
    "                                  non_sequences=[transition_probs, rng],\n",
    "                                  n_steps=k)\n",
    "    assert updates\n",
    "    markov_chain.register_rv(mc_chain, name=\"mc_chain\", initval=\"prior\")\n",
    "\n",
    "with markov_chain:\n",
    "    trace = pm.sample_prior_predictive(1000, compile_kwargs=dict(updates=updates))"
   ]
  },
  {
   "cell_type": "code",
   "execution_count": null,
   "id": "666f292a",
   "metadata": {},
   "outputs": [],
   "source": []
  }
 ],
 "metadata": {
  "kernelspec": {
   "display_name": "Python (pymc)",
   "language": "python",
   "name": "pymc"
  },
  "language_info": {
   "codemirror_mode": {
    "name": "ipython",
    "version": 3
   },
   "file_extension": ".py",
   "mimetype": "text/x-python",
   "name": "python",
   "nbconvert_exporter": "python",
   "pygments_lexer": "ipython3",
   "version": "3.11.0"
  }
 },
 "nbformat": 4,
 "nbformat_minor": 5
}
